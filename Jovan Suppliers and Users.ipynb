{
 "cells": [
  {
   "cell_type": "code",
   "execution_count": 1,
   "metadata": {},
   "outputs": [],
   "source": [
    "import pandas as pd\n",
    "import matplotlib.pyplot as plt"
   ]
  },
  {
   "cell_type": "code",
   "execution_count": 23,
   "metadata": {},
   "outputs": [],
   "source": [
    "heroinUsers = pd.read_excel('./tables/drugOffenses/heroinUsers.xlsx')\n",
    "heroinSuppliers = pd.read_excel('./tables/drugOffenses/heroinSuppliers.xlsx')\n",
    "\n",
    "heroinUsers = heroinUsers.drop(columns='Unnamed: 15').drop(columns=2004)\n",
    "heroinSuppliers = heroinSuppliers.drop(columns='Unnamed: 15').drop(columns=2004)\n",
    "\n",
    "heroinUsers.drop(heroinUsers.tail(2).index,inplace=True)\n",
    "heroinSuppliers.drop(heroinSuppliers.tail(2).index,inplace=True)"
   ]
  },
  {
   "cell_type": "code",
   "execution_count": 116,
   "metadata": {
    "scrolled": false
   },
   "outputs": [],
   "source": [
    "heroinUsers = heroinUsers.fillna(0)\n",
    "years = [2017, 2016, 2015, 2014, 2013, 2012, 2011, 2010, 2009, 2008, 2007, 2006, 2005]\n",
    "heroinUsersCountries = pd.DataFrame()\n",
    "for country in heroinUsers['Country']:\n",
    "    heroinUsersCountries = heroinUsersCountries.append({'Users': float(heroinUsers[heroinUsers['Country'] == country][years].sum(axis=1)), 'Country': country},ignore_index=True)    \n",
    "        \n",
    "heroinSuppliers = heroinSuppliers.fillna(0)\n",
    "heroinSuppliersCountries = pd.DataFrame()\n",
    "for country in heroinSuppliers['Country']:\n",
    "    heroinSuppliersCountries = heroinSuppliersCountries.append({'Suppliers': float(heroinSuppliers[heroinSuppliers['Country'] == country][years].sum(axis=1)), 'Country': country},ignore_index=True)    "
   ]
  },
  {
   "cell_type": "code",
   "execution_count": 135,
   "metadata": {},
   "outputs": [],
   "source": [
    "heroinData = heroinSuppliersCountries.merge(heroinUsersCountries)\n",
    "heroinData['Ratio'] = heroinData['Users']/heroinData['Suppliers']"
   ]
  },
  {
   "cell_type": "code",
   "execution_count": 154,
   "metadata": {},
   "outputs": [
    {
     "data": {
      "text/plain": [
       "<matplotlib.axes._subplots.AxesSubplot at 0x7fb7c927e190>"
      ]
     },
     "execution_count": 154,
     "metadata": {},
     "output_type": "execute_result"
    },
    {
     "data": {
      "image/png": "[encoded data removed]",
      "text/plain": [
       "<Figure size 1080x360 with 2 Axes>"
      ]
     },
     "metadata": {
      "needs_background": "light"
     },
     "output_type": "display_data"
    }
   ],
   "source": [
    "fig, axes = plt.subplots(nrows=1, ncols=2, figsize=(15,5))\n",
    "heroinData[['Country', 'Users', 'Suppliers']].sort_values(by='Users', ascending=False).head(5).plot(x = 'Country', kind='bar', ax = axes[0])\n",
    "heroinData[['Country', 'Users', 'Suppliers']].sort_values(by='Suppliers', ascending=False).head(5).plot(x = 'Country', kind='bar', ax = axes[1])"
   ]
  },
  {
   "cell_type": "markdown",
   "metadata": {},
   "source": [
    "Top 5 countries sorted by Users and sorted by Suppliers"
   ]
  },
  {
   "cell_type": "code",
   "execution_count": 181,
   "metadata": {},
   "outputs": [
    {
     "data": {
      "text/html": [
       "<div>\n",
       "<style scoped>\n",
       "    .dataframe tbody tr th:only-of-type {\n",
       "        vertical-align: middle;\n",
       "    }\n",
       "\n",
       "    .dataframe tbody tr th {\n",
       "        vertical-align: top;\n",
       "    }\n",
       "\n",
       "    .dataframe thead th {\n",
       "        text-align: right;\n",
       "    }\n",
       "</style>\n",
       "<table border=\"1\" class=\"dataframe\">\n",
       "  <thead>\n",
       "    <tr style=\"text-align: right;\">\n",
       "      <th></th>\n",
       "      <th>Country</th>\n",
       "      <th>Ratio</th>\n",
       "    </tr>\n",
       "  </thead>\n",
       "  <tbody>\n",
       "    <tr>\n",
       "      <th>9</th>\n",
       "      <td>France</td>\n",
       "      <td>8.039696</td>\n",
       "    </tr>\n",
       "    <tr>\n",
       "      <th>12</th>\n",
       "      <td>Hungary</td>\n",
       "      <td>5.802469</td>\n",
       "    </tr>\n",
       "    <tr>\n",
       "      <th>26</th>\n",
       "      <td>Spain</td>\n",
       "      <td>5.055054</td>\n",
       "    </tr>\n",
       "    <tr>\n",
       "      <th>4</th>\n",
       "      <td>Cyprus</td>\n",
       "      <td>4.870588</td>\n",
       "    </tr>\n",
       "    <tr>\n",
       "      <th>17</th>\n",
       "      <td>Luxembourg</td>\n",
       "      <td>3.414352</td>\n",
       "    </tr>\n",
       "  </tbody>\n",
       "</table>\n",
       "</div>"
      ],
      "text/plain": [
       "       Country     Ratio\n",
       "9       France  8.039696\n",
       "12     Hungary  5.802469\n",
       "26       Spain  5.055054\n",
       "4       Cyprus  4.870588\n",
       "17  Luxembourg  3.414352"
      ]
     },
     "execution_count": 181,
     "metadata": {},
     "output_type": "execute_result"
    }
   ],
   "source": [
    "heroinData[['Country', 'Ratio']].dropna().sort_values(by = 'Ratio', ascending = False).head(5)"
   ]
  },
  {
   "cell_type": "markdown",
   "metadata": {},
   "source": [
    "User : Supplier ratio."
   ]
  },
  {
   "cell_type": "code",
   "execution_count": null,
   "metadata": {},
   "outputs": [],
   "source": []
  }
 ],
 "metadata": {
  "kernelspec": {
   "display_name": "Python 3",
   "language": "python",
   "name": "python3"
  },
  "language_info": {
   "codemirror_mode": {
    "name": "ipython",
    "version": 3
   },
   "file_extension": ".py",
   "mimetype": "text/x-python",
   "name": "python",
   "nbconvert_exporter": "python",
   "pygments_lexer": "ipython3",
   "version": "3.7.6"
  }
 },
 "nbformat": 4,
 "nbformat_minor": 4
}
