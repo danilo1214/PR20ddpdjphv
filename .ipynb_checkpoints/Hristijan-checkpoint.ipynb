{
 "cells": [
  {
   "cell_type": "code",
   "execution_count": 40,
   "metadata": {},
   "outputs": [
    {
     "name": "stdout",
     "output_type": "stream",
     "text": [
      "Austria *\n",
      "Belgium\n",
      "Bulgaria *\n",
      "Croatia\n",
      "Cyprus\n",
      "Czechia\n",
      "Denmark\n",
      "Estonia\n",
      "Finland\n",
      "France\n",
      "Germany\n",
      "Greece\n",
      "Hungary\n",
      "Ireland\n",
      "Italy\n",
      "Latvia\n",
      "Lithuania *\n",
      "Luxembourg\n",
      "Malta\n",
      "Netherlands\n",
      "Norway *\n",
      "Poland\n",
      "Portugal *\n",
      "Romania *\n",
      "Slovakia\n",
      "Slovenia\n",
      "Spain *\n",
      "Sweden *\n",
      "Turkey\n",
      "United Kingdom *\n"
     ]
    }
   ],
   "source": [
    "import pandas\n",
    "\n",
    "f = pandas.read_excel(\"./tables/drugDeaths/deaths35-39.xlsx\") ## to read a file just enter the file path\n",
    "##to see all the columns a file has to offer, run f.columns(), there is a bug however, that shows \"Unnamed\" as a column, maybe\n",
    "##because of an extra blank column in excel idk\n",
    "for i,row in f.iterrows():\n",
    "    print(row[\"Country\"]) ##a row is a row in the data, For example we access the column Country like this"
   ]
  },
  {
   "cell_type": "markdown",
   "metadata": {},
   "source": [
    "TEST TEST."
   ]
  },
  {
   "cell_type": "code",
   "execution_count": null,
   "metadata": {},
   "outputs": [],
   "source": []
  }
 ],
 "metadata": {
  "kernelspec": {
   "display_name": "Python 3",
   "language": "python",
   "name": "python3"
  },
  "language_info": {
   "codemirror_mode": {
    "name": "ipython",
    "version": 3
   },
   "file_extension": ".py",
   "mimetype": "text/x-python",
   "name": "python",
   "nbconvert_exporter": "python",
   "pygments_lexer": "ipython3",
   "version": "3.7.4"
  }
 },
 "nbformat": 4,
 "nbformat_minor": 2
}
