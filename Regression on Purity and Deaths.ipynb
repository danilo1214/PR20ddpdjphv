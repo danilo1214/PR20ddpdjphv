{
 "cells": [
  {
   "cell_type": "code",
   "execution_count": 1,
   "metadata": {},
   "outputs": [],
   "source": [
    "import pandas as pd\n",
    "import matplotlib.pyplot as plt\n",
    "import numpy as np\n",
    "from sklearn import linear_model, metrics\n",
    "from sklearn.linear_model import LinearRegression, Lasso, Ridge\n",
    "from sklearn.ensemble import RandomForestRegressor\n",
    "from sklearn.metrics import mean_squared_error, r2_score\n",
    "import seaborn as seabornInstance \n",
    "from sklearn.model_selection import train_test_split \n",
    "%matplotlib inline"
   ]
  },
  {
   "cell_type": "code",
   "execution_count": 2,
   "metadata": {},
   "outputs": [],
   "source": [
    "pBrownheroin = pd.read_excel('./tables/pricePurity/purityBrownHeroinMean.xlsx', \n",
    "                            nrows = 31, usecols = [i for i in range(25)]).drop('Study',\n",
    "                            axis = 1).drop(29) # we gotta drop UK-E (its on row 29) \n",
    "                            # because it in the Deaths dataframe\n",
    "pCannabis = pd.read_excel('./tables/pricePurity/purityCannabisMean.xlsx')\n",
    "pCocaine = pd.read_excel('./tables/pricePurity/purityCocaineMean.xlsx')\n",
    "pEctasy = pd.read_excel('./tables/pricePurity/purityEctasyMean.xlsx')\n",
    "pWhiteheroin = pd.read_excel('./tables/pricePurity/purityWhiteHeroinMean.xlsx')"
   ]
  },
  {
   "cell_type": "code",
   "execution_count": 3,
   "metadata": {},
   "outputs": [],
   "source": [
    "dMale = pd.read_excel('./tables/drugDeaths/maleDeaths.xlsx', usecols = [i for i in range(24)])\n",
    "dFemale = pd.read_excel('./tables/drugDeaths/femaleDeaths.xlsx', usecols = [i for i in range(24)])\n",
    "countries = dMale['Country'].replace('*','')\n",
    "Deaths = dMale + dFemale\n",
    "Deaths['Country'] = countries\n",
    "Deaths.drop(Deaths.tail(1).index,inplace=True)\n",
    "\n",
    "Deaths['Country'] = Deaths['Country'].str.replace('*','').str.rstrip()\n",
    "pBrownheroin['Country'] =pBrownheroin['Country'].str.replace(\"United Kingdom-A\", \"United Kingdom\") "
   ]
  },
  {
   "cell_type": "code",
   "execution_count": 4,
   "metadata": {},
   "outputs": [],
   "source": [
    "def get_mae_r2(suppliers, users):\n",
    "    data = dict()\n",
    "    i = 0\n",
    "    for target_country in users['Country']:\n",
    "        # making the dataframe for target_country\n",
    "        df = suppliers[suppliers['Country'] == target_country].T[1:]\n",
    "        df.columns = [\"Purity \" + target_country]\n",
    "\n",
    "        for country in list(suppliers['Country']):\n",
    "            if country != target_country:\n",
    "                joiner = suppliers[suppliers['Country'] == country].T[1:]\n",
    "                joiner.columns = [\"Purity \" + country]\n",
    "                df = df.join(joiner)\n",
    "\n",
    "        # users in target country\n",
    "        joiner = users[users['Country'] == target_country].T[1:]\n",
    "\n",
    "        if not joiner[i].isnull().sum() >= len(joiner/2):\n",
    "            i+= 1\n",
    "            joiner = joiner.fillna(joiner.mean())\n",
    "\n",
    "            joiner.columns = [\"Deaths \" + target_country]\n",
    "            df = df.join(joiner)\n",
    "\n",
    "            # handeling NAN values\n",
    "            for country in df.columns:\n",
    "                if df[country].isnull().sum() >= len(df[country]/2):\n",
    "                    df = df.drop(country, axis = 1) # if more than half are nan\n",
    "                else:\n",
    "                    df[country] = df[country].fillna(df[country].mean())\n",
    "\n",
    "            X = df.loc[:, df.columns != \"Deaths \" + target_country].values\n",
    "            y = df[\"Deaths \" + target_country].values\n",
    "\n",
    "            X_train, X_test, y_train, y_test = train_test_split(X, y, test_size=0.3, random_state=0) \n",
    "\n",
    "            regressor = LinearRegression()\n",
    "            #regressor = Lasso(tol=0.001) # za da ne ima errors\n",
    "            #regressor = Ridge()\n",
    "            #regressor = RandomForestRegressor()\n",
    "            \n",
    "            regressor.fit(X_train, y_train)\n",
    "\n",
    "            y_pred = regressor.predict(X_test)\n",
    "\n",
    "            mae=metrics.mean_absolute_error(y_test, y_pred)\n",
    "            r2=r2_score(y_test, y_pred)\n",
    "\n",
    "            data[target_country] = (mae, r2)\n",
    "        else:\n",
    "            i+=1\n",
    "    return data"
   ]
  },
  {
   "cell_type": "code",
   "execution_count": 5,
   "metadata": {},
   "outputs": [],
   "source": [
    "brownheroin = get_mae_r2(pBrownheroin, Deaths)"
   ]
  },
  {
   "cell_type": "code",
   "execution_count": 8,
   "metadata": {},
   "outputs": [
    {
     "data": {
      "text/plain": [
       "{'Austria': (40.17747316580403, -5.434517963343478),\n",
       " 'Belgium': (54.34520460238018, -8.521405631642214),\n",
       " 'Bulgaria': (19.039866877265634, -3.4125333606275223),\n",
       " 'Croatia': (32.74976246185007, -3.2060198698738054),\n",
       " 'Cyprus': (3.962542192830127, -2.04072515133686),\n",
       " 'Czechia': (12.366418271341447, -2.444568441174669),\n",
       " 'Denmark': (38.98878270540882, -25.47248844366656),\n",
       " 'Estonia': (45.9113912113806, -1.9834264581851877),\n",
       " 'Finland': (68.28330950829128, -4.77517386396624),\n",
       " 'France': (325.34161850558206, -41.085990344588396),\n",
       " 'Germany': (227.13525127449807, -4.168872011763752),\n",
       " 'Greece': (157.1052175592002, -110.89909667700422),\n",
       " 'Hungary': (15.747661959452225, -2.794209206646674),\n",
       " 'Ireland': (101.95168668249548, -11.253363455313886),\n",
       " 'Italy': (409.524198602609, -0.26432847671687476),\n",
       " 'Latvia': (16.353150814503227, -40.333105413253094),\n",
       " 'Lithuania': (33.60478249303172, -2.047721838714239),\n",
       " 'Luxembourg': (6.8955240832148705, -0.5689755174600462),\n",
       " 'Malta': (3.627468034369541, -3.133372631680314),\n",
       " 'Netherlands': (97.16769849374377, -6.3921637030999925),\n",
       " 'Norway': (82.86535368043631, -3.7175537754392334),\n",
       " 'Poland': (96.17067857973927, -12.344668049170163),\n",
       " 'Portugal': (14.205816798151929, -7.398469142382851),\n",
       " 'Romania': (22.15880412392043, -9.517776768649005),\n",
       " 'Slovakia': (5.572507402989694, -18.57783773802922),\n",
       " 'Slovenia': (8.670100374703097, -0.2862096678634851),\n",
       " 'Spain': (186.57880842800438, -7.938045689848588),\n",
       " 'Sweden': (75.05679584389294, 0.4105980166777259),\n",
       " 'Turkey': (308.49799646299346, -1.9239783094419143),\n",
       " 'United Kingdom': (385.7568294208828, -0.7408921588170356)}"
      ]
     },
     "execution_count": 8,
     "metadata": {},
     "output_type": "execute_result"
    }
   ],
   "source": [
    "brownheroin"
   ]
  }
 ],
 "metadata": {
  "kernelspec": {
   "display_name": "Python 3",
   "language": "python",
   "name": "python3"
  },
  "language_info": {
   "codemirror_mode": {
    "name": "ipython",
    "version": 3
   },
   "file_extension": ".py",
   "mimetype": "text/x-python",
   "name": "python",
   "nbconvert_exporter": "python",
   "pygments_lexer": "ipython3",
   "version": "3.8.3"
  }
 },
 "nbformat": 4,
 "nbformat_minor": 2
}
