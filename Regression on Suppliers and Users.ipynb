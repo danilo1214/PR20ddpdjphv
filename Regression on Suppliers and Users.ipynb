{
 "cells": [
  {
   "cell_type": "code",
   "execution_count": 1,
   "metadata": {},
   "outputs": [],
   "source": [
    "import pandas as pd\n",
    "import matplotlib.pyplot as plt\n",
    "import numpy as np\n",
    "from sklearn import linear_model, metrics\n",
    "from sklearn.linear_model import LinearRegression, Lasso, Ridge\n",
    "from sklearn.metrics import mean_squared_error, r2_score\n",
    "import seaborn as seabornInstance \n",
    "from sklearn.model_selection import train_test_split \n",
    "%matplotlib inline"
   ]
  },
  {
   "cell_type": "code",
   "execution_count": 2,
   "metadata": {
    "scrolled": true
   },
   "outputs": [],
   "source": [
    "heroinUsers = pd.read_excel('./tables/drugOffenses/heroinUsers.xlsx', \n",
    "                            usecols=[i for i in range(15)], nrows=30) # for a clean dataframe\n",
    "heroinSuppliers = pd.read_excel('./tables/drugOffenses/heroinSuppliers.xlsx', \n",
    "                            usecols=[i for i in range(15)], nrows=30)\n",
    "cannabisUsers = pd.read_excel('./tables/drugOffenses/cannabisUsers.xlsx', \n",
    "                            usecols=[i for i in range(15)], nrows=30) # for a clean dataframe\n",
    "cannabisSuppliers = pd.read_excel('./tables/drugOffenses/cannabisSuppliers.xlsx', \n",
    "                            usecols=[i for i in range(15)], nrows=30)\n",
    "cocaineUsers = pd.read_excel('./tables/drugOffenses/cocaineUsers.xlsx', \n",
    "                            usecols=[i for i in range(15)], nrows=30) # for a clean dataframe\n",
    "cocaineSuppliers = pd.read_excel('./tables/drugOffenses/cocaineSuppliers.xlsx', \n",
    "                            usecols=[i for i in range(15)], nrows=30)"
   ]
  },
  {
   "cell_type": "code",
   "execution_count": 3,
   "metadata": {},
   "outputs": [],
   "source": [
    "def get_mae_r2(suppliers, users):\n",
    "    data = dict()\n",
    "    i = 0\n",
    "    for target_country in users['Country']:\n",
    "        # making the dataframe for target_country\n",
    "        df = suppliers[suppliers['Country'] == target_country].T[1:]\n",
    "        df.columns = [\"Suppliers \" + target_country]\n",
    "\n",
    "        for country in list(suppliers['Country']):\n",
    "            if country != target_country:\n",
    "                joiner = suppliers[suppliers['Country'] == country].T[1:]\n",
    "                joiner.columns = [\"Suppliers \" + country]\n",
    "                df = df.join(joiner)\n",
    "\n",
    "        # users in target country\n",
    "        joiner = users[users['Country'] == target_country].T[1:]\n",
    "\n",
    "        if not joiner[i].isnull().sum() >= len(joiner/2):\n",
    "            i+= 1\n",
    "\n",
    "            joiner = joiner.fillna(joiner.mean())\n",
    "\n",
    "            joiner.columns = [\"Users \" + target_country]\n",
    "            df = df.join(joiner)\n",
    "\n",
    "            # handeling NAN values\n",
    "            for country in df.columns:\n",
    "                if df[country].isnull().sum() >= len(df[country]/2):\n",
    "                    df = df.drop(country, axis = 1) # if more than half are nan\n",
    "                else:\n",
    "                    df[country] = df[country].fillna(df[country].mean())\n",
    "\n",
    "\n",
    "            X = df.loc[:, df.columns != \"Users \" + target_country].values\n",
    "            y = df[\"Users \" + target_country].values\n",
    "\n",
    "            X_train, X_test, y_train, y_test = train_test_split(X, y, test_size=0.3, random_state=0) \n",
    "\n",
    "            regressor = LinearRegression()  \n",
    "            regressor.fit(X_train, y_train)\n",
    "\n",
    "            y_pred = regressor.predict(X_test)\n",
    "\n",
    "            mae=metrics.mean_absolute_error(y_test, y_pred)\n",
    "            r2=r2_score(y_test, y_pred)\n",
    "\n",
    "            data[target_country] = (mae, r2)\n",
    "        else:\n",
    "            i+=1\n",
    "    return data"
   ]
  },
  {
   "cell_type": "code",
   "execution_count": null,
   "metadata": {},
   "outputs": [],
   "source": [
    "heroin = get_mae_r2(heroinSuppliers, heroinUsers)\n",
    "cocaine = get_mae_r2(cocaineSuppliers, cocaineUsers)\n",
    "cannabis = get_mae_r2(cannabisSuppliers, cannabisUsers)"
   ]
  },
  {
   "cell_type": "markdown",
   "metadata": {},
   "source": [
    "### Multiple linear regression on heroin, cannabis, cocaine users based on its suppliers. (getting mean absolute error and explained variance)"
   ]
  },
  {
   "cell_type": "code",
   "execution_count": null,
   "metadata": {},
   "outputs": [],
   "source": [
    "heroin"
   ]
  },
  {
   "cell_type": "code",
   "execution_count": null,
   "metadata": {},
   "outputs": [],
   "source": [
    "cocaine"
   ]
  },
  {
   "cell_type": "code",
   "execution_count": null,
   "metadata": {},
   "outputs": [],
   "source": [
    "cannabis"
   ]
  },
  {
   "cell_type": "markdown",
   "metadata": {},
   "source": [
    "## simple regression on Austria based on years and suppliers in Austria\n",
    "## this is cringe, dont mind this (i may return to this)"
   ]
  },
  {
   "cell_type": "code",
   "execution_count": null,
   "metadata": {},
   "outputs": [],
   "source": [
    "target_country = 'Austria'\n",
    "df_simple = heroinSuppliers[heroinSuppliers['Country'] == target_country].T[1:]\n",
    "df_simple.columns = [\"Suppliers \" + target_country]\n",
    "\n",
    "joiner = heroinUsers[heroinUsers['Country'] == target_country].T[1:]\n",
    "joiner.columns = [\"Users \" + target_country]\n",
    "df_simple = df_simple.join(joiner)\n",
    "df_simple = df_simple.drop(2004)\n",
    "df_simple['Years'] = [i for i in range(2005, 2018)][::-1]"
   ]
  },
  {
   "cell_type": "code",
   "execution_count": null,
   "metadata": {
    "scrolled": false
   },
   "outputs": [],
   "source": [
    "reg_simple = linear_model.LinearRegression()\n",
    "reg_simple.fit(df_simple[['Years','Suppliers Austria']], df_simple[\"Users Austria\"])"
   ]
  },
  {
   "cell_type": "code",
   "execution_count": null,
   "metadata": {
    "scrolled": true
   },
   "outputs": [],
   "source": [
    "user_list=[]\n",
    "\n",
    "suppliers = df_simple['Suppliers Austria'].mean()\n",
    "for year in range(2018, 2025):\n",
    "    users = reg_simple.predict([[year, suppliers]])[0]\n",
    "    print(\"In the year \" + str(year) + \" the model has predicted \" + \n",
    "          str(users) + \" users in Austria on \" + str(suppliers) + \" suppliers\")\n",
    "    \n",
    "    user_list.append(users)    #on mean suppliers\n",
    "print(\"====================\")\n",
    "suppliers = 700\n",
    "for year in range(2018, 2025):\n",
    "    users = reg_simple.predict([[year, suppliers]])[0]\n",
    "    print(\"In the year \" + str(year) + \" the model has predicted \" + \n",
    "          str(users) + \" users in Austria on \" + str(suppliers) + \" suppliers\")"
   ]
  }
 ],
 "metadata": {
  "kernelspec": {
   "display_name": "Python 3",
   "language": "python",
   "name": "python3"
  },
  "language_info": {
   "codemirror_mode": {
    "name": "ipython",
    "version": 3
   },
   "file_extension": ".py",
   "mimetype": "text/x-python",
   "name": "python",
   "nbconvert_exporter": "python",
   "pygments_lexer": "ipython3",
   "version": "3.8.3"
  }
 },
 "nbformat": 4,
 "nbformat_minor": 4
}
