{
 "cells": [
  {
   "cell_type": "code",
   "execution_count": 1,
   "metadata": {},
   "outputs": [],
   "source": [
    "import pandas as pd\n",
    "import matplotlib.pyplot as plt\n",
    "import numpy as np\n",
    "from sklearn import linear_model, metrics\n",
    "from sklearn.linear_model import LinearRegression, Lasso, Ridge\n",
    "from sklearn.metrics import mean_squared_error, r2_score\n",
    "import seaborn as seabornInstance \n",
    "from sklearn.model_selection import train_test_split \n",
    "%matplotlib inline"
   ]
  },
  {
   "cell_type": "code",
   "execution_count": 2,
   "metadata": {
    "scrolled": true
   },
   "outputs": [],
   "source": [
    "heroinUsers = pd.read_excel('./tables/drugOffenses/heroinUsers.xlsx', \n",
    "                            usecols=[i for i in range(15)], nrows=30) # for a clean dataframe\n",
    "heroinSuppliers = pd.read_excel('./tables/drugOffenses/heroinSuppliers.xlsx', \n",
    "                            usecols=[i for i in range(15)], nrows=30)\n",
    "\n"
   ]
  },
  {
   "cell_type": "code",
   "execution_count": 3,
   "metadata": {},
   "outputs": [],
   "source": [
    "data = dict()\n",
    "i = 0\n",
    "for target_country in heroinUsers['Country']:\n",
    "    # making the dataframe for target_country\n",
    "    df = heroinSuppliers[heroinSuppliers['Country'] == target_country].T[1:]\n",
    "    df.columns = [\"Suppliers \" + target_country]\n",
    "\n",
    "    for country in list(heroinSuppliers['Country']):\n",
    "        if country != target_country:\n",
    "            joiner = heroinSuppliers[heroinSuppliers['Country'] == country].T[1:]\n",
    "            joiner.columns = [\"Suppliers \" + country]\n",
    "            df = df.join(joiner)\n",
    "\n",
    "    # users in target country\n",
    "    joiner = heroinUsers[heroinUsers['Country'] == target_country].T[1:]\n",
    "    \n",
    "    if not joiner[i].isnull().sum() >= len(joiner/2):\n",
    "        i+= 1\n",
    "        \n",
    "        joiner = joiner.fillna(joiner.mean())\n",
    "        \n",
    "        joiner.columns = [\"Users \" + target_country]\n",
    "        df = df.join(joiner)\n",
    "\n",
    "        # handeling NAN values\n",
    "        for country in df.columns:\n",
    "            if df[country].isnull().sum() >= len(df[country]/2):\n",
    "                #print(\"in \" + country + \" ima poveke od half\")\n",
    "                df = df.drop(country, axis = 1) # if more than half are nan\n",
    "            else:\n",
    "                df[country] = df[country].fillna(df[country].mean())\n",
    "\n",
    "\n",
    "        X = df.loc[:, df.columns != \"Users \" + target_country].values\n",
    "        y = df[\"Users \" + target_country].values\n",
    "\n",
    "        X_train, X_test, y_train, y_test = train_test_split(X, y, test_size=0.3, random_state=0) \n",
    "\n",
    "        regressor = LinearRegression()  \n",
    "        regressor.fit(X_train, y_train)\n",
    "\n",
    "        y_pred = regressor.predict(X_test)\n",
    "\n",
    "        mae=metrics.mean_absolute_error(y_test, y_pred)\n",
    "        r2=r2_score(y_test, y_pred)\n",
    "\n",
    "        data[target_country] = (mae, r2)\n",
    "    else:\n",
    "        i+=1"
   ]
  },
  {
   "cell_type": "code",
   "execution_count": 4,
   "metadata": {},
   "outputs": [
    {
     "data": {
      "text/plain": [
       "{'Austria': (196.3259389275675, 0.8935270044559369),\n",
       " 'Belgium': (228.23731978147754, 0.2231902276747466),\n",
       " 'Bulgaria': (133.9211306806041, -1.1134381180749728),\n",
       " 'Croatia': (163.8227927960843, 0.12189425804611842),\n",
       " 'Cyprus': (16.986553457906798, 0.560700186549018),\n",
       " 'Czechia': (34.36888629934337, -1.6484447798860198),\n",
       " 'France': (834.5689498594962, -0.9854383899469432),\n",
       " 'Germany': (1725.4028309176988, 0.8304381628206003),\n",
       " 'Greece': (831.7962159696774, 0.24992540772133198),\n",
       " 'Hungary': (99.97389684063931, -1.8020592504087767),\n",
       " 'Italy': (830.9297466123619, 0.16927666855480372),\n",
       " 'Latvia': (45.12931959396919, -0.551907664377824),\n",
       " 'Lithuania': (101.47663814874056, -0.7281850952047606),\n",
       " 'Luxembourg': (54.949086853840676, -0.3761484115618403),\n",
       " 'Malta': (57.664702856293445, -1.4237468836695384),\n",
       " 'Poland': (200.32555183340574, -0.10921601376193446),\n",
       " 'Portugal': (109.51898947940799, 0.11597288277003504),\n",
       " 'Slovakia': (24.468534066663235, -1.1647143426557616),\n",
       " 'Slovenia': (56.01863490410672, 0.4758567897134177),\n",
       " 'Spain': (1592.684086380364, -1.8186326562713813),\n",
       " 'Turkey': (494.4384930833938, 0.9083405496313866),\n",
       " 'United Kingdom': (798.9049164313781, 0.6681044946471599)}"
      ]
     },
     "execution_count": 4,
     "metadata": {},
     "output_type": "execute_result"
    }
   ],
   "source": [
    "data"
   ]
  },
  {
   "cell_type": "markdown",
   "metadata": {},
   "source": [
    "## simple regression on Austria based on years and suppliers in Austria\n",
    "## this is cringe, dont mind this (i may return to this)"
   ]
  },
  {
   "cell_type": "code",
   "execution_count": 5,
   "metadata": {},
   "outputs": [],
   "source": [
    "target_country = 'Austria'\n",
    "df_simple = heroinSuppliers[heroinSuppliers['Country'] == target_country].T[1:]\n",
    "df_simple.columns = [\"Suppliers \" + target_country]\n",
    "\n",
    "joiner = heroinUsers[heroinUsers['Country'] == target_country].T[1:]\n",
    "joiner.columns = [\"Users \" + target_country]\n",
    "df_simple = df_simple.join(joiner)\n",
    "df_simple = df_simple.drop(2004)\n",
    "df_simple['Years'] = [i for i in range(2005, 2018)][::-1]"
   ]
  },
  {
   "cell_type": "code",
   "execution_count": 6,
   "metadata": {
    "scrolled": false
   },
   "outputs": [
    {
     "data": {
      "text/plain": [
       "LinearRegression()"
      ]
     },
     "execution_count": 6,
     "metadata": {},
     "output_type": "execute_result"
    }
   ],
   "source": [
    "reg_simple = linear_model.LinearRegression()\n",
    "reg_simple.fit(df_simple[['Years','Suppliers Austria']], df_simple[\"Users Austria\"])"
   ]
  },
  {
   "cell_type": "code",
   "execution_count": 7,
   "metadata": {
    "scrolled": true
   },
   "outputs": [
    {
     "name": "stdout",
     "output_type": "stream",
     "text": [
      "In the year 2018 the model has predicted 1020.3006127455155 users in Austria on 586.5384615384615 suppliers\n",
      "In the year 2019 the model has predicted 880.9919090718031 users in Austria on 586.5384615384615 suppliers\n",
      "In the year 2020 the model has predicted 741.6832053980906 users in Austria on 586.5384615384615 suppliers\n",
      "In the year 2021 the model has predicted 602.3745017243782 users in Austria on 586.5384615384615 suppliers\n",
      "In the year 2022 the model has predicted 463.06579805066576 users in Austria on 586.5384615384615 suppliers\n",
      "In the year 2023 the model has predicted 323.7570943769533 users in Austria on 586.5384615384615 suppliers\n",
      "In the year 2024 the model has predicted 184.44839070324088 users in Austria on 586.5384615384615 suppliers\n",
      "====================\n",
      "In the year 2018 the model has predicted 1379.8000689211185 users in Austria on 700 suppliers\n",
      "In the year 2019 the model has predicted 1240.491365247406 users in Austria on 700 suppliers\n",
      "In the year 2020 the model has predicted 1101.1826615736936 users in Austria on 700 suppliers\n",
      "In the year 2021 the model has predicted 961.8739578999812 users in Austria on 700 suppliers\n",
      "In the year 2022 the model has predicted 822.5652542262687 users in Austria on 700 suppliers\n",
      "In the year 2023 the model has predicted 683.2565505525563 users in Austria on 700 suppliers\n",
      "In the year 2024 the model has predicted 543.9478468788438 users in Austria on 700 suppliers\n"
     ]
    }
   ],
   "source": [
    "user_list=[]\n",
    "\n",
    "suppliers = df_simple['Suppliers Austria'].mean()\n",
    "for year in range(2018, 2025):\n",
    "    users = reg_simple.predict([[year, suppliers]])[0]\n",
    "    print(\"In the year \" + str(year) + \" the model has predicted \" + \n",
    "          str(users) + \" users in Austria on \" + str(suppliers) + \" suppliers\")\n",
    "    \n",
    "    user_list.append(users)    #on mean suppliers\n",
    "print(\"====================\")\n",
    "suppliers = 700\n",
    "for year in range(2018, 2025):\n",
    "    users = reg_simple.predict([[year, suppliers]])[0]\n",
    "    print(\"In the year \" + str(year) + \" the model has predicted \" + \n",
    "          str(users) + \" users in Austria on \" + str(suppliers) + \" suppliers\")"
   ]
  },
  {
   "cell_type": "code",
   "execution_count": 8,
   "metadata": {},
   "outputs": [
    {
     "data": {
      "text/plain": [
       "[<matplotlib.lines.Line2D at 0x7fbb83a2d160>]"
      ]
     },
     "execution_count": 8,
     "metadata": {},
     "output_type": "execute_result"
    }
   ],
   "source": [
    "years = [i for i in range (2018,2025)]\n",
    "plt.figure(figsize=(15,7))\n",
    "plt.plot(years, user_list)"
   ]
  }
 ],
 "metadata": {
  "kernelspec": {
   "display_name": "Python 3",
   "language": "python",
   "name": "python3"
  },
  "language_info": {
   "codemirror_mode": {
    "name": "ipython",
    "version": 3
   },
   "file_extension": ".py",
   "mimetype": "text/x-python",
   "name": "python",
   "nbconvert_exporter": "python",
   "pygments_lexer": "ipython3",
   "version": "3.8.3"
  }
 },
 "nbformat": 4,
 "nbformat_minor": 4
}
