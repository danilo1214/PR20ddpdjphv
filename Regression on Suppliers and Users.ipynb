{
 "cells": [
  {
   "cell_type": "code",
   "execution_count": 1,
   "metadata": {},
   "outputs": [],
   "source": [
    "import pandas as pd\n",
    "import matplotlib.pyplot as plt\n",
    "import numpy as np\n",
    "from sklearn import linear_model, metrics\n",
    "from sklearn.linear_model import LinearRegression, Lasso, Ridge\n",
    "from sklearn.ensemble import RandomForestRegressor\n",
    "from sklearn.metrics import mean_squared_error, r2_score\n",
    "import seaborn as seabornInstance \n",
    "from sklearn.model_selection import train_test_split \n",
    "%matplotlib inline"
   ]
  },
  {
   "cell_type": "code",
   "execution_count": 2,
   "metadata": {
    "scrolled": true
   },
   "outputs": [],
   "source": [
    "heroinUsers = pd.read_excel('./tables/drugOffenses/heroinUsers.xlsx', \n",
    "                            usecols=[i for i in range(15)], nrows=30) # for a clean dataframe\n",
    "heroinSuppliers = pd.read_excel('./tables/drugOffenses/heroinSuppliers.xlsx', \n",
    "                            usecols=[i for i in range(15)], nrows=30)\n",
    "cannabisUsers = pd.read_excel('./tables/drugOffenses/cannabisUsers.xlsx', \n",
    "                            usecols=[i for i in range(15)], nrows=30) # for a clean dataframe\n",
    "cannabisSuppliers = pd.read_excel('./tables/drugOffenses/cannabisSuppliers.xlsx', \n",
    "                            usecols=[i for i in range(15)], nrows=30)\n",
    "cocaineUsers = pd.read_excel('./tables/drugOffenses/cocaineUsers.xlsx', \n",
    "                            usecols=[i for i in range(15)], nrows=30) # for a clean dataframe\n",
    "cocaineSuppliers = pd.read_excel('./tables/drugOffenses/cocaineSuppliers.xlsx', \n",
    "                            usecols=[i for i in range(15)], nrows=30)"
   ]
  },
  {
   "cell_type": "code",
   "execution_count": 3,
   "metadata": {},
   "outputs": [],
   "source": [
    "def get_mae_r2(suppliers, users):\n",
    "    data = dict()\n",
    "    i = 0\n",
    "    for target_country in users['Country']:\n",
    "        # making the dataframe for target_country\n",
    "        df = suppliers[suppliers['Country'] == target_country].T[1:]\n",
    "        df.columns = [\"Suppliers \" + target_country]\n",
    "\n",
    "        for country in list(suppliers['Country']):\n",
    "            if country != target_country:\n",
    "                joiner = suppliers[suppliers['Country'] == country].T[1:]\n",
    "                joiner.columns = [\"Suppliers \" + country]\n",
    "                df = df.join(joiner)\n",
    "\n",
    "        # users in target country\n",
    "        joiner = users[users['Country'] == target_country].T[1:]\n",
    "\n",
    "        if not joiner[i].isnull().sum() >= len(joiner/2):\n",
    "            i+= 1\n",
    "            joiner = joiner.fillna(joiner.mean())\n",
    "\n",
    "            joiner.columns = [\"Users \" + target_country]\n",
    "            df = df.join(joiner)\n",
    "\n",
    "            # handeling NAN values\n",
    "            for country in df.columns:\n",
    "                if df[country].isnull().sum() >= len(df[country]/2):\n",
    "                    df = df.drop(country, axis = 1) # if more than half are nan\n",
    "                else:\n",
    "                    df[country] = df[country].fillna(df[country].mean())\n",
    "\n",
    "            X = df.loc[:, df.columns != \"Users \" + target_country].values\n",
    "            y = df[\"Users \" + target_country].values\n",
    "\n",
    "            X_train, X_test, y_train, y_test = train_test_split(X, y, test_size=0.3, random_state=0) \n",
    "\n",
    "            # Danilo, samo smeni tuka koj regressor sakas. Dr mislam deka e vo red\n",
    "            regressor = LinearRegression()\n",
    "            #regressor = Lasso()\n",
    "            #regressor = Ridge()\n",
    "            #regressor = RandomForestRegressor()\n",
    "            \n",
    "            regressor.fit(X_train, y_train)\n",
    "\n",
    "            y_pred = regressor.predict(X_test)\n",
    "\n",
    "            mae=metrics.mean_absolute_error(y_test, y_pred)\n",
    "            r2=r2_score(y_test, y_pred)\n",
    "\n",
    "            data[target_country] = (mae, r2)\n",
    "        else:\n",
    "            i+=1\n",
    "    return data"
   ]
  },
  {
   "cell_type": "code",
   "execution_count": 4,
   "metadata": {},
   "outputs": [],
   "source": [
    "heroin = get_mae_r2(heroinSuppliers, heroinUsers)\n",
    "cocaine = get_mae_r2(cocaineSuppliers, cocaineUsers)\n",
    "cannabis = get_mae_r2(cannabisSuppliers, cannabisUsers)"
   ]
  },
  {
   "cell_type": "markdown",
   "metadata": {},
   "source": [
    "### Multiple linear regression on heroin, cannabis, cocaine users based on its suppliers. (getting mean absolute error and explained variance)"
   ]
  },
  {
   "cell_type": "code",
   "execution_count": 5,
   "metadata": {},
   "outputs": [
    {
     "data": {
      "text/plain": [
       "{'Austria': (196.3259389275675, 0.8935270044559369),\n",
       " 'Belgium': (228.23731978147754, 0.2231902276747466),\n",
       " 'Bulgaria': (133.9211306806041, -1.1134381180749728),\n",
       " 'Croatia': (163.8227927960843, 0.12189425804611842),\n",
       " 'Cyprus': (16.986553457906798, 0.560700186549018),\n",
       " 'Czechia': (34.36888629934337, -1.6484447798860198),\n",
       " 'France': (834.5689498594962, -0.9854383899469432),\n",
       " 'Germany': (1725.4028309176988, 0.8304381628206003),\n",
       " 'Greece': (831.7962159696774, 0.24992540772133198),\n",
       " 'Hungary': (99.97389684063931, -1.8020592504087767),\n",
       " 'Italy': (830.9297466123619, 0.16927666855480372),\n",
       " 'Latvia': (45.12931959396919, -0.551907664377824),\n",
       " 'Lithuania': (101.47663814874056, -0.7281850952047606),\n",
       " 'Luxembourg': (54.949086853840676, -0.3761484115618403),\n",
       " 'Malta': (57.664702856293445, -1.4237468836695384),\n",
       " 'Poland': (200.32555183340574, -0.10921601376193446),\n",
       " 'Portugal': (109.51898947940799, 0.11597288277003504),\n",
       " 'Slovakia': (24.468534066663235, -1.1647143426557616),\n",
       " 'Slovenia': (56.01863490410672, 0.4758567897134177),\n",
       " 'Spain': (1592.684086380364, -1.8186326562713813),\n",
       " 'Turkey': (494.4384930833938, 0.9083405496313866),\n",
       " 'United Kingdom': (798.9049164313781, 0.6681044946471599)}"
      ]
     },
     "execution_count": 5,
     "metadata": {},
     "output_type": "execute_result"
    }
   ],
   "source": [
    "heroin"
   ]
  },
  {
   "cell_type": "code",
   "execution_count": 6,
   "metadata": {},
   "outputs": [
    {
     "data": {
      "text/plain": [
       "{'Austria': (220.09071210123147, 0.678149253557105),\n",
       " 'Belgium': (233.9591303038328, -1.6830136270521483),\n",
       " 'Bulgaria': (18.671594769646322, -8.725472721540632),\n",
       " 'Croatia': (178.93093000556718, -0.021950431500328493),\n",
       " 'Cyprus': (9.328560506617103, -1.5441626305954368),\n",
       " 'Czechia': (11.278923680409054, -1.7149688158057144),\n",
       " 'France': (231.09614372511197, -0.30434399441826),\n",
       " 'Germany': (992.2779358374453, 0.4687564416706381),\n",
       " 'Greece': (127.42196372004939, 0.3879794672941851),\n",
       " 'Hungary': (43.6439519783514, -8.937776076972439),\n",
       " 'Italy': (748.2734590266404, 0.4195649596408747),\n",
       " 'Latvia': (10.295309946224446, -3.0014270630986593),\n",
       " 'Lithuania': (11.265079644973687, -11.790403032929408),\n",
       " 'Luxembourg': (9.952031185208796, -11.26621564705685),\n",
       " 'Malta': (33.079681614078176, -0.925529661795957),\n",
       " 'Poland': (23.475637056919094, 0.21488368923146062),\n",
       " 'Portugal': (90.03892499516506, 0.031037946852024323),\n",
       " 'Slovakia': (2.247805127907527, -15.8210072982287),\n",
       " 'Slovenia': (8.955580624850361, 0.5474840386903743),\n",
       " 'Spain': (2840.403759786969, 0.33006916287184795),\n",
       " 'Turkey': (223.569785901452, 0.052647356379245),\n",
       " 'United Kingdom': (2291.6515748365027, -0.18105902846771627)}"
      ]
     },
     "execution_count": 6,
     "metadata": {},
     "output_type": "execute_result"
    }
   ],
   "source": [
    "cocaine"
   ]
  },
  {
   "cell_type": "code",
   "execution_count": 7,
   "metadata": {
    "scrolled": true
   },
   "outputs": [
    {
     "data": {
      "text/plain": [
       "{'Austria': (3896.8059572607353, -3.129586959888192),\n",
       " 'Belgium': (938.9369467414297, 0.9330439906588073),\n",
       " 'Bulgaria': (289.5197950925576, 0.6876840825739916),\n",
       " 'Croatia': (351.496318036801, -0.45590145769088397),\n",
       " 'Cyprus': (157.56373346276533, -0.19106341129150062),\n",
       " 'Czechia': (318.74230090131385, 0.9144200610634611),\n",
       " 'France': (15853.322649268866, -1.1607777663358063),\n",
       " 'Germany': (17273.907555949212, -1.8369010177741059),\n",
       " 'Greece': (1824.7855923968066, -0.8825341108955829),\n",
       " 'Hungary': (459.2745355994759, -0.470765106412417),\n",
       " 'Italy': (3088.504233764278, -0.07495523614074129),\n",
       " 'Latvia': (60.49546520567834, -24.65678499158004),\n",
       " 'Lithuania': (57.388973642712855, 0.49076272483995165),\n",
       " 'Luxembourg': (125.30097689565466, -2.6218762070854633),\n",
       " 'Malta': (23.38863748940599, 0.7212587109617246),\n",
       " 'Netherlands': (265.7334595734421, -20.626726258834225),\n",
       " 'Poland': (3852.796038760357, -1.1573122997386576),\n",
       " 'Portugal': (314.1303572025008, 0.9586937496864232),\n",
       " 'Slovakia': (25.693763625036116, 0.7288250465528887),\n",
       " 'Slovenia': (70.81468979843503, 0.37203296405274533),\n",
       " 'Spain': (37687.67060211691, -5.775890528605255),\n",
       " 'Turkey': (4902.184805846319, 0.6364629259805485),\n",
       " 'United Kingdom': (3169.431707219509, 0.6670226480377353)}"
      ]
     },
     "execution_count": 7,
     "metadata": {},
     "output_type": "execute_result"
    }
   ],
   "source": [
    "cannabis"
   ]
  },
  {
   "cell_type": "markdown",
   "metadata": {},
   "source": [
    "## Dataframe"
   ]
  },
  {
   "cell_type": "code",
   "execution_count": 8,
   "metadata": {},
   "outputs": [],
   "source": [
    "def get_df_reg(suppliers, users):\n",
    "    regressions = pd.DataFrame()\n",
    "    i = 0\n",
    "    for target_country in users['Country']:\n",
    "        # making the dataframe for target_country\n",
    "        df = suppliers[suppliers['Country'] == target_country].T[1:]\n",
    "        df.columns = [\"Suppliers \" + target_country]\n",
    "\n",
    "        for country in list(suppliers['Country']):\n",
    "            if country != target_country:\n",
    "                joiner = suppliers[suppliers['Country'] == country].T[1:]\n",
    "                joiner.columns = [\"Suppliers \" + country]\n",
    "                df = df.join(joiner)\n",
    "\n",
    "        # users in target country\n",
    "        joiner = users[users['Country'] == target_country].T[1:]\n",
    "\n",
    "        if not joiner[i].isnull().sum() >= len(joiner/2):\n",
    "            i+= 1\n",
    "            joiner = joiner.fillna(joiner.mean())\n",
    "\n",
    "            joiner.columns = [\"Users \" + target_country]\n",
    "            df = df.join(joiner)\n",
    "\n",
    "            # handeling NAN values\n",
    "            for country in df.columns:\n",
    "                if df[country].isnull().sum() >= len(df[country]/2):\n",
    "                    df = df.drop(country, axis = 1) # if more than half are nan\n",
    "                else:\n",
    "                    df[country] = df[country].fillna(df[country].mean())\n",
    "\n",
    "            X = df.loc[:, df.columns != \"Users \" + target_country].values\n",
    "            y = df[\"Users \" + target_country].values\n",
    "\n",
    "            X_train, X_test, y_train, y_test = train_test_split(X, y, test_size=0.3, random_state=0) \n",
    "\n",
    "            Linear = LinearRegression()\n",
    "            LassoLearn = Lasso()\n",
    "            RidgeLearn = Ridge()\n",
    "            RandomForest = RandomForestRegressor()\n",
    "            learners = [Linear, LassoLearn, RidgeLearn, RandomForest]\n",
    "            for reg in learners:\n",
    "                reg.fit(X_train, y_train)\n",
    "                y_pred = reg.predict(X_test)\n",
    "\n",
    "                mae=metrics.mean_absolute_error(y_test, y_pred)\n",
    "                r2=r2_score(y_test, y_pred)\n",
    "\n",
    "                regressions = regressions.append({\"Country\": target_country, \"Regression\": str(reg),\n",
    "                                                 \"MAE\": mae, \"R2\": r2}, ignore_index=True)\n",
    "        else:\n",
    "            i+=1\n",
    "    return regressions"
   ]
  },
  {
   "cell_type": "code",
   "execution_count": null,
   "metadata": {
    "scrolled": true
   },
   "outputs": [
    {
     "name": "stderr",
     "output_type": "stream",
     "text": [
      "/usr/lib/python3.8/site-packages/sklearn/linear_model/_coordinate_descent.py:529: ConvergenceWarning: Objective did not converge. You might want to increase the number of iterations. Duality gap: 17.086868436048505, tolerance: 13.185088888888888\n",
      "  model = cd_fast.enet_coordinate_descent(\n",
      "/usr/lib/python3.8/site-packages/sklearn/linear_model/_coordinate_descent.py:529: ConvergenceWarning: Objective did not converge. You might want to increase the number of iterations. Duality gap: 33.6056678629934, tolerance: 30.77120478395062\n",
      "  model = cd_fast.enet_coordinate_descent(\n",
      "/usr/lib/python3.8/site-packages/sklearn/linear_model/_coordinate_descent.py:529: ConvergenceWarning: Objective did not converge. You might want to increase the number of iterations. Duality gap: 1.4664639059614035, tolerance: 0.45690555555555556\n",
      "  model = cd_fast.enet_coordinate_descent(\n",
      "/usr/lib/python3.8/site-packages/sklearn/linear_model/_coordinate_descent.py:529: ConvergenceWarning: Objective did not converge. You might want to increase the number of iterations. Duality gap: 4.985617577671684, tolerance: 0.4067055555555556\n",
      "  model = cd_fast.enet_coordinate_descent(\n",
      "/usr/lib/python3.8/site-packages/sklearn/linear_model/_coordinate_descent.py:529: ConvergenceWarning: Objective did not converge. You might want to increase the number of iterations. Duality gap: 667.499204846772, tolerance: 644.471888888889\n",
      "  model = cd_fast.enet_coordinate_descent(\n",
      "/usr/lib/python3.8/site-packages/sklearn/linear_model/_coordinate_descent.py:529: ConvergenceWarning: Objective did not converge. You might want to increase the number of iterations. Duality gap: 13.501120356024467, tolerance: 2.4942587105624145\n",
      "  model = cd_fast.enet_coordinate_descent(\n",
      "/usr/lib/python3.8/site-packages/sklearn/linear_model/_coordinate_descent.py:529: ConvergenceWarning: Objective did not converge. You might want to increase the number of iterations. Duality gap: 8.489164217768435, tolerance: 1.5584335555555555\n",
      "  model = cd_fast.enet_coordinate_descent(\n",
      "/usr/lib/python3.8/site-packages/sklearn/linear_model/_coordinate_descent.py:529: ConvergenceWarning: Objective did not converge. You might want to increase the number of iterations. Duality gap: 23.186493750537068, tolerance: 4.696669135802469\n",
      "  model = cd_fast.enet_coordinate_descent(\n",
      "/usr/lib/python3.8/site-packages/sklearn/linear_model/_coordinate_descent.py:529: ConvergenceWarning: Objective did not converge. You might want to increase the number of iterations. Duality gap: 31.259494243725214, tolerance: 9.869686805555558\n",
      "  model = cd_fast.enet_coordinate_descent(\n",
      "/usr/lib/python3.8/site-packages/sklearn/linear_model/_coordinate_descent.py:529: ConvergenceWarning: Objective did not converge. You might want to increase the number of iterations. Duality gap: 4.598755936505361, tolerance: 2.476798347107439\n",
      "  model = cd_fast.enet_coordinate_descent(\n",
      "/usr/lib/python3.8/site-packages/sklearn/linear_model/_coordinate_descent.py:529: ConvergenceWarning: Objective did not converge. You might want to increase the number of iterations. Duality gap: 28.318029339985607, tolerance: 16.888293491124262\n",
      "  model = cd_fast.enet_coordinate_descent(\n"
     ]
    }
   ],
   "source": [
    "heroinReg = get_df_reg(heroinSuppliers, heroinUsers)\n",
    "cocaineReg = get_df_reg(cocaineSuppliers, cocaineUsers)\n",
    "cannabisReg = get_df_reg(cannabisSuppliers, cannabisUsers)"
   ]
  },
  {
   "cell_type": "code",
   "execution_count": null,
   "metadata": {
    "scrolled": true
   },
   "outputs": [],
   "source": [
    "heroinReg"
   ]
  },
  {
   "cell_type": "code",
   "execution_count": null,
   "metadata": {},
   "outputs": [],
   "source": [
    "cocaineReg"
   ]
  },
  {
   "cell_type": "code",
   "execution_count": null,
   "metadata": {},
   "outputs": [],
   "source": [
    "cannabisReg"
   ]
  },
  {
   "cell_type": "markdown",
   "metadata": {},
   "source": [
    "## simple regression on Austria based on years and suppliers in Austria\n",
    "## this is cringe, dont mind this (i may return to this)"
   ]
  },
  {
   "cell_type": "code",
   "execution_count": null,
   "metadata": {},
   "outputs": [],
   "source": [
    "target_country = 'Austria'\n",
    "df_simple = heroinSuppliers[heroinSuppliers['Country'] == target_country].T[1:]\n",
    "df_simple.columns = [\"Suppliers \" + target_country]\n",
    "\n",
    "joiner = heroinUsers[heroinUsers['Country'] == target_country].T[1:]\n",
    "joiner.columns = [\"Users \" + target_country]\n",
    "df_simple = df_simple.join(joiner)\n",
    "df_simple = df_simple.drop(2004)\n",
    "df_simple['Years'] = [i for i in range(2005, 2018)][::-1]"
   ]
  },
  {
   "cell_type": "code",
   "execution_count": null,
   "metadata": {
    "scrolled": false
   },
   "outputs": [],
   "source": [
    "reg_simple = linear_model.LinearRegression()\n",
    "reg_simple.fit(df_simple[['Years','Suppliers Austria']], df_simple[\"Users Austria\"])"
   ]
  },
  {
   "cell_type": "code",
   "execution_count": null,
   "metadata": {
    "scrolled": true
   },
   "outputs": [],
   "source": [
    "user_list=[]\n",
    "\n",
    "suppliers = df_simple['Suppliers Austria'].mean()\n",
    "for year in range(2018, 2025):\n",
    "    users = reg_simple.predict([[year, suppliers]])[0]\n",
    "    print(\"In the year \" + str(year) + \" the model has predicted \" + \n",
    "          str(users) + \" users in Austria on \" + str(suppliers) + \" suppliers\")\n",
    "    \n",
    "    user_list.append(users)    #on mean suppliers\n",
    "print(\"====================\")\n",
    "suppliers = 700\n",
    "for year in range(2018, 2025):\n",
    "    users = reg_simple.predict([[year, suppliers]])[0]\n",
    "    print(\"In the year \" + str(year) + \" the model has predicted \" + \n",
    "          str(users) + \" users in Austria on \" + str(suppliers) + \" suppliers\")"
   ]
  }
 ],
 "metadata": {
  "kernelspec": {
   "display_name": "Python 3",
   "language": "python",
   "name": "python3"
  },
  "language_info": {
   "codemirror_mode": {
    "name": "ipython",
    "version": 3
   },
   "file_extension": ".py",
   "mimetype": "text/x-python",
   "name": "python",
   "nbconvert_exporter": "python",
   "pygments_lexer": "ipython3",
   "version": "3.8.3"
  }
 },
 "nbformat": 4,
 "nbformat_minor": 4
}
