{
 "cells": [
  {
   "cell_type": "code",
   "execution_count": 1,
   "metadata": {},
   "outputs": [],
   "source": [
    "import pandas as pd\n",
    "import matplotlib.pyplot as plt\n",
    "import numpy as np\n",
    "from sklearn import linear_model\n",
    "from sklearn.linear_model import LinearRegression, Lasso, Ridge\n",
    "from sklearn.metrics import mean_squared_error, r2_score\n",
    "import seaborn as seabornInstance \n",
    "from sklearn.model_selection import train_test_split \n",
    "from sklearn.linear_model import LinearRegression\n",
    "from sklearn import metrics\n",
    "%matplotlib inline"
   ]
  },
  {
   "cell_type": "code",
   "execution_count": 2,
   "metadata": {
    "scrolled": true
   },
   "outputs": [],
   "source": [
    "heroinUsers = pd.read_excel('./tables/drugOffenses/heroinUsers.xlsx', \n",
    "                            usecols=[i for i in range(15)], nrows=30) # for a clean dataframe\n",
    "heroinSuppliers = pd.read_excel('./tables/drugOffenses/heroinSuppliers.xlsx', \n",
    "                            usecols=[i for i in range(15)], nrows=30)"
   ]
  },
  {
   "cell_type": "code",
   "execution_count": 3,
   "metadata": {},
   "outputs": [],
   "source": [
    "target_country = 'Austria' # target country for model"
   ]
  },
  {
   "cell_type": "code",
   "execution_count": 4,
   "metadata": {},
   "outputs": [],
   "source": [
    "# making the dataframe for target_country\n",
    "df = heroinSuppliers[heroinSuppliers['Country'] == target_country].T[1:]\n",
    "df.columns = [\"Suppliers \" + target_country]\n",
    "\n",
    "for country in list(heroinSuppliers['Country']):\n",
    "    if country != target_country:\n",
    "        joiner = heroinSuppliers[heroinSuppliers['Country'] == country].T[1:]\n",
    "        joiner.columns = [\"Suppliers \" + country]\n",
    "        df = df.join(joiner)\n",
    "\n",
    "# users in target country\n",
    "joiner = heroinUsers[heroinUsers['Country'] == target_country].T[1:]\n",
    "joiner.columns = [\"Users \" + target_country]\n",
    "df = df.join(joiner)"
   ]
  },
  {
   "cell_type": "code",
   "execution_count": 5,
   "metadata": {
    "scrolled": false
   },
   "outputs": [
    {
     "name": "stdout",
     "output_type": "stream",
     "text": [
      "in Suppliers Denmark ima poveke od half\n",
      "in Suppliers Estonia ima poveke od half\n",
      "in Suppliers Finland ima poveke od half\n",
      "in Suppliers Ireland ima poveke od half\n",
      "in Suppliers Netherlands ima poveke od half\n",
      "in Suppliers Norway ima poveke od half\n",
      "in Suppliers Romania ima poveke od half\n",
      "in Suppliers Sweden ima poveke od half\n"
     ]
    }
   ],
   "source": [
    "# handeling NAN values\n",
    "\n",
    "for country in df.columns:\n",
    "    if df[country].isnull().sum() >= len(df[country]/2):\n",
    "        print(\"in \" + country + \" ima poveke od half\")\n",
    "        df = df.drop(country, axis = 1) # if more than half are nan\n",
    "    else:\n",
    "        df[country] = df[country].fillna(df[country].mean())"
   ]
  },
  {
   "cell_type": "code",
   "execution_count": 6,
   "metadata": {},
   "outputs": [],
   "source": [
    "X = df.loc[:, df.columns != \"Users \" + target_country].values\n",
    "y = df[\"Users \" + target_country].values"
   ]
  },
  {
   "cell_type": "code",
   "execution_count": 8,
   "metadata": {},
   "outputs": [],
   "source": [
    "X_train, X_test, y_train, y_test = train_test_split(X, y, test_size=0.3, random_state=0)"
   ]
  },
  {
   "cell_type": "code",
   "execution_count": 9,
   "metadata": {},
   "outputs": [
    {
     "data": {
      "text/plain": [
       "LinearRegression()"
      ]
     },
     "execution_count": 9,
     "metadata": {},
     "output_type": "execute_result"
    }
   ],
   "source": [
    "regressor = LinearRegression()  \n",
    "regressor.fit(X_train, y_train)"
   ]
  },
  {
   "cell_type": "code",
   "execution_count": 10,
   "metadata": {},
   "outputs": [],
   "source": [
    "y_pred = regressor.predict(X_test)"
   ]
  },
  {
   "cell_type": "code",
   "execution_count": 11,
   "metadata": {},
   "outputs": [
    {
     "data": {
      "text/html": [
       "<div>\n",
       "<style scoped>\n",
       "    .dataframe tbody tr th:only-of-type {\n",
       "        vertical-align: middle;\n",
       "    }\n",
       "\n",
       "    .dataframe tbody tr th {\n",
       "        vertical-align: top;\n",
       "    }\n",
       "\n",
       "    .dataframe thead th {\n",
       "        text-align: right;\n",
       "    }\n",
       "</style>\n",
       "<table border=\"1\" class=\"dataframe\">\n",
       "  <thead>\n",
       "    <tr style=\"text-align: right;\">\n",
       "      <th></th>\n",
       "      <th>Actual</th>\n",
       "      <th>Predicted</th>\n",
       "    </tr>\n",
       "  </thead>\n",
       "  <tbody>\n",
       "    <tr>\n",
       "      <th>0</th>\n",
       "      <td>2453.0</td>\n",
       "      <td>2845.839353</td>\n",
       "    </tr>\n",
       "    <tr>\n",
       "      <th>1</th>\n",
       "      <td>1875.0</td>\n",
       "      <td>1684.878392</td>\n",
       "    </tr>\n",
       "    <tr>\n",
       "      <th>2</th>\n",
       "      <td>975.0</td>\n",
       "      <td>724.635468</td>\n",
       "    </tr>\n",
       "    <tr>\n",
       "      <th>3</th>\n",
       "      <td>2676.0</td>\n",
       "      <td>2625.671293</td>\n",
       "    </tr>\n",
       "    <tr>\n",
       "      <th>4</th>\n",
       "      <td>1018.0</td>\n",
       "      <td>1115.975494</td>\n",
       "    </tr>\n",
       "  </tbody>\n",
       "</table>\n",
       "</div>"
      ],
      "text/plain": [
       "   Actual    Predicted\n",
       "0  2453.0  2845.839353\n",
       "1  1875.0  1684.878392\n",
       "2   975.0   724.635468\n",
       "3  2676.0  2625.671293\n",
       "4  1018.0  1115.975494"
      ]
     },
     "execution_count": 11,
     "metadata": {},
     "output_type": "execute_result"
    }
   ],
   "source": [
    "dfpred = pd.DataFrame({'Actual': y_test, 'Predicted': y_pred})\n",
    "dfpred"
   ]
  },
  {
   "cell_type": "code",
   "execution_count": 13,
   "metadata": {
    "scrolled": true
   },
   "outputs": [
    {
     "name": "stdout",
     "output_type": "stream",
     "text": [
      "Mean Absolute Error: 196.3259389275675\n",
      "Mean Squared Error: 53056.71173067564\n",
      "Root Mean Squared Error: 230.3404257412833\n"
     ]
    }
   ],
   "source": [
    "print('Mean Absolute Error:', metrics.mean_absolute_error(y_test, y_pred))  \n",
    "print('Mean Squared Error:', metrics.mean_squared_error(y_test, y_pred))  \n",
    "print('Root Mean Squared Error:', np.sqrt(metrics.mean_squared_error(y_test, y_pred)))"
   ]
  },
  {
   "cell_type": "markdown",
   "metadata": {},
   "source": [
    "## simple regression on Austria based on years and suppliers in Austria"
   ]
  },
  {
   "cell_type": "code",
   "execution_count": 14,
   "metadata": {},
   "outputs": [],
   "source": [
    "target_country = 'Austria'\n",
    "df_simple = heroinSuppliers[heroinSuppliers['Country'] == target_country].T[1:]\n",
    "df_simple.columns = [\"Suppliers \" + target_country]\n",
    "\n",
    "joiner = heroinUsers[heroinUsers['Country'] == target_country].T[1:]\n",
    "joiner.columns = [\"Users \" + target_country]\n",
    "df_simple = df_simple.join(joiner)\n",
    "df_simple = df_simple.drop(2004)\n",
    "df_simple['Years'] = [i for i in range(2005, 2018)][::-1]"
   ]
  },
  {
   "cell_type": "code",
   "execution_count": 15,
   "metadata": {
    "scrolled": false
   },
   "outputs": [
    {
     "data": {
      "text/plain": [
       "LinearRegression()"
      ]
     },
     "execution_count": 15,
     "metadata": {},
     "output_type": "execute_result"
    }
   ],
   "source": [
    "reg_simple = linear_model.LinearRegression()\n",
    "reg_simple.fit(df_simple[['Years','Suppliers Austria']], df_simple[\"Users Austria\"])"
   ]
  },
  {
   "cell_type": "code",
   "execution_count": 16,
   "metadata": {
    "scrolled": true
   },
   "outputs": [
    {
     "name": "stdout",
     "output_type": "stream",
     "text": [
      "In the year 2018 the model has predicted 1020.3006127455155 users in Austria on 586.5384615384615 suppliers\n",
      "In the year 2019 the model has predicted 880.9919090718031 users in Austria on 586.5384615384615 suppliers\n",
      "In the year 2020 the model has predicted 741.6832053980906 users in Austria on 586.5384615384615 suppliers\n",
      "In the year 2021 the model has predicted 602.3745017243782 users in Austria on 586.5384615384615 suppliers\n",
      "In the year 2022 the model has predicted 463.06579805066576 users in Austria on 586.5384615384615 suppliers\n",
      "In the year 2023 the model has predicted 323.7570943769533 users in Austria on 586.5384615384615 suppliers\n",
      "In the year 2024 the model has predicted 184.44839070324088 users in Austria on 586.5384615384615 suppliers\n",
      "====================\n",
      "In the year 2018 the model has predicted 1379.8000689211185 users in Austria on 700 suppliers\n",
      "In the year 2019 the model has predicted 1240.491365247406 users in Austria on 700 suppliers\n",
      "In the year 2020 the model has predicted 1101.1826615736936 users in Austria on 700 suppliers\n",
      "In the year 2021 the model has predicted 961.8739578999812 users in Austria on 700 suppliers\n",
      "In the year 2022 the model has predicted 822.5652542262687 users in Austria on 700 suppliers\n",
      "In the year 2023 the model has predicted 683.2565505525563 users in Austria on 700 suppliers\n",
      "In the year 2024 the model has predicted 543.9478468788438 users in Austria on 700 suppliers\n"
     ]
    }
   ],
   "source": [
    "user_list=[]\n",
    "\n",
    "suppliers = df_simple['Suppliers Austria'].mean()\n",
    "for year in range(2018, 2025):\n",
    "    users = reg_simple.predict([[year, suppliers]])[0]\n",
    "    print(\"In the year \" + str(year) + \" the model has predicted \" + \n",
    "          str(users) + \" users in Austria on \" + str(suppliers) + \" suppliers\")\n",
    "    \n",
    "    user_list.append(users)    #on mean suppliers\n",
    "print(\"====================\")\n",
    "suppliers = 700\n",
    "for year in range(2018, 2025):\n",
    "    users = reg_simple.predict([[year, suppliers]])[0]\n",
    "    print(\"In the year \" + str(year) + \" the model has predicted \" + \n",
    "          str(users) + \" users in Austria on \" + str(suppliers) + \" suppliers\")"
   ]
  },
  {
   "cell_type": "code",
   "execution_count": 17,
   "metadata": {},
   "outputs": [
    {
     "data": {
      "text/plain": [
       "[<matplotlib.lines.Line2D at 0x7f18f29ad9d0>]"
      ]
     },
     "execution_count": 17,
     "metadata": {},
     "output_type": "execute_result"
    }
   ],
   "source": [
    "years = [i for i in range (2018,2025)]\n",
    "plt.figure(figsize=(15,7))\n",
    "plt.plot(years, user_list)"
   ]
  }
 ],
 "metadata": {
  "kernelspec": {
   "display_name": "Python 3",
   "language": "python",
   "name": "python3"
  },
  "language_info": {
   "codemirror_mode": {
    "name": "ipython",
    "version": 3
   },
   "file_extension": ".py",
   "mimetype": "text/x-python",
   "name": "python",
   "nbconvert_exporter": "python",
   "pygments_lexer": "ipython3",
   "version": "3.8.3"
  }
 },
 "nbformat": 4,
 "nbformat_minor": 4
}
